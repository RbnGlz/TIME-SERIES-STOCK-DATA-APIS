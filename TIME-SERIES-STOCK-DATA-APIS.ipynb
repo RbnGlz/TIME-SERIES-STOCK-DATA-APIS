{
 "cells": [
  {
   "cell_type": "code",
   "execution_count": 5,
   "id": "9e08daf2-9042-4636-9d9b-da24a42b5a2a",
   "metadata": {
    "collapsed": true,
    "jupyter": {
     "outputs_hidden": true
    }
   },
   "outputs": [
    {
     "name": "stdout",
     "output_type": "stream",
     "text": [
      "Collecting alpha_vantage\n",
      "  Downloading alpha_vantage-3.0.0-py3-none-any.whl.metadata (12 kB)\n",
      "Requirement already satisfied: aiohttp in c:\\users\\rbglz\\anaconda3\\lib\\site-packages (from alpha_vantage) (3.10.5)\n",
      "Requirement already satisfied: requests in c:\\users\\rbglz\\anaconda3\\lib\\site-packages (from alpha_vantage) (2.32.3)\n",
      "Requirement already satisfied: aiohappyeyeballs>=2.3.0 in c:\\users\\rbglz\\anaconda3\\lib\\site-packages (from aiohttp->alpha_vantage) (2.4.0)\n",
      "Requirement already satisfied: aiosignal>=1.1.2 in c:\\users\\rbglz\\anaconda3\\lib\\site-packages (from aiohttp->alpha_vantage) (1.2.0)\n",
      "Requirement already satisfied: attrs>=17.3.0 in c:\\users\\rbglz\\anaconda3\\lib\\site-packages (from aiohttp->alpha_vantage) (23.1.0)\n",
      "Requirement already satisfied: frozenlist>=1.1.1 in c:\\users\\rbglz\\anaconda3\\lib\\site-packages (from aiohttp->alpha_vantage) (1.4.0)\n",
      "Requirement already satisfied: multidict<7.0,>=4.5 in c:\\users\\rbglz\\anaconda3\\lib\\site-packages (from aiohttp->alpha_vantage) (6.0.4)\n",
      "Requirement already satisfied: yarl<2.0,>=1.0 in c:\\users\\rbglz\\anaconda3\\lib\\site-packages (from aiohttp->alpha_vantage) (1.11.0)\n",
      "Requirement already satisfied: charset-normalizer<4,>=2 in c:\\users\\rbglz\\anaconda3\\lib\\site-packages (from requests->alpha_vantage) (3.3.2)\n",
      "Requirement already satisfied: idna<4,>=2.5 in c:\\users\\rbglz\\anaconda3\\lib\\site-packages (from requests->alpha_vantage) (3.7)\n",
      "Requirement already satisfied: urllib3<3,>=1.21.1 in c:\\users\\rbglz\\anaconda3\\lib\\site-packages (from requests->alpha_vantage) (2.2.3)\n",
      "Requirement already satisfied: certifi>=2017.4.17 in c:\\users\\rbglz\\anaconda3\\lib\\site-packages (from requests->alpha_vantage) (2025.1.31)\n",
      "Downloading alpha_vantage-3.0.0-py3-none-any.whl (35 kB)\n",
      "Installing collected packages: alpha_vantage\n",
      "Successfully installed alpha_vantage-3.0.0\n"
     ]
    }
   ],
   "source": [
    "# Instalar la librería alpha_vantage\n",
    "!pip install alpha_vantage"
   ]
  },
  {
   "cell_type": "code",
   "execution_count": 7,
   "id": "d64664cb-ccac-4607-be0a-fbaa0d995f06",
   "metadata": {
    "scrolled": true
   },
   "outputs": [
    {
     "name": "stdout",
     "output_type": "stream",
     "text": [
      "Descargando datos de NVDA...\n",
      "Datos guardados en NVDA_60min_20250207_1954.csv\n",
      "\n",
      "Primeros registros de los datos:\n"
     ]
    },
    {
     "data": {
      "text/html": [
       "<div>\n",
       "<style scoped>\n",
       "    .dataframe tbody tr th:only-of-type {\n",
       "        vertical-align: middle;\n",
       "    }\n",
       "\n",
       "    .dataframe tbody tr th {\n",
       "        vertical-align: top;\n",
       "    }\n",
       "\n",
       "    .dataframe thead th {\n",
       "        text-align: right;\n",
       "    }\n",
       "</style>\n",
       "<table border=\"1\" class=\"dataframe\">\n",
       "  <thead>\n",
       "    <tr style=\"text-align: right;\">\n",
       "      <th></th>\n",
       "      <th>1. open</th>\n",
       "      <th>2. high</th>\n",
       "      <th>3. low</th>\n",
       "      <th>4. close</th>\n",
       "      <th>5. volume</th>\n",
       "    </tr>\n",
       "    <tr>\n",
       "      <th>date</th>\n",
       "      <th></th>\n",
       "      <th></th>\n",
       "      <th></th>\n",
       "      <th></th>\n",
       "      <th></th>\n",
       "    </tr>\n",
       "  </thead>\n",
       "  <tbody>\n",
       "    <tr>\n",
       "      <th>2025-02-06 19:00:00</th>\n",
       "      <td>127.970</td>\n",
       "      <td>128.2000</td>\n",
       "      <td>127.8200</td>\n",
       "      <td>128.140</td>\n",
       "      <td>473020.0</td>\n",
       "    </tr>\n",
       "    <tr>\n",
       "      <th>2025-02-06 18:00:00</th>\n",
       "      <td>128.030</td>\n",
       "      <td>128.3900</td>\n",
       "      <td>127.6822</td>\n",
       "      <td>128.000</td>\n",
       "      <td>628593.0</td>\n",
       "    </tr>\n",
       "    <tr>\n",
       "      <th>2025-02-06 17:00:00</th>\n",
       "      <td>128.610</td>\n",
       "      <td>175.1748</td>\n",
       "      <td>82.4356</td>\n",
       "      <td>128.025</td>\n",
       "      <td>3985344.0</td>\n",
       "    </tr>\n",
       "    <tr>\n",
       "      <th>2025-02-06 16:00:00</th>\n",
       "      <td>128.685</td>\n",
       "      <td>129.3900</td>\n",
       "      <td>116.3000</td>\n",
       "      <td>128.610</td>\n",
       "      <td>39200282.0</td>\n",
       "    </tr>\n",
       "    <tr>\n",
       "      <th>2025-02-06 15:00:00</th>\n",
       "      <td>127.630</td>\n",
       "      <td>128.7700</td>\n",
       "      <td>127.3600</td>\n",
       "      <td>128.685</td>\n",
       "      <td>29659855.0</td>\n",
       "    </tr>\n",
       "  </tbody>\n",
       "</table>\n",
       "</div>"
      ],
      "text/plain": [
       "                     1. open   2. high    3. low  4. close   5. volume\n",
       "date                                                                  \n",
       "2025-02-06 19:00:00  127.970  128.2000  127.8200   128.140    473020.0\n",
       "2025-02-06 18:00:00  128.030  128.3900  127.6822   128.000    628593.0\n",
       "2025-02-06 17:00:00  128.610  175.1748   82.4356   128.025   3985344.0\n",
       "2025-02-06 16:00:00  128.685  129.3900  116.3000   128.610  39200282.0\n",
       "2025-02-06 15:00:00  127.630  128.7700  127.3600   128.685  29659855.0"
      ]
     },
     "metadata": {},
     "output_type": "display_data"
    }
   ],
   "source": [
    "# Importar las librerías necesarias para la descarga de datos de acciones\n",
    "from alpha_vantage.timeseries import TimeSeries\n",
    "import pandas as pd\n",
    "from datetime import datetime\n",
    "import time\n",
    "\n",
    "def download_stock_data(symbol: str, api_key: str, interval: str = '60min', outputsize: str = 'full') -> pd.DataFrame:\n",
    "    \"\"\"\n",
    "    Descarga datos de acciones usando Alpha Vantage.\n",
    "    \n",
    "    Args:\n",
    "        symbol: Símbolo de la acción, que en este caso particular escogeremos Nvidia ('NVDA')\n",
    "        api_key: Tu API key de Alpha Vantage\n",
    "        interval: Intervalo de tiempo ('1min', '5min', '15min', '30min', '60min')\n",
    "        outputsize: Cantidad de datos ('compact' ~100 velas, 'full' datos completos)\n",
    "    \"\"\"\n",
    "    try:\n",
    "        # Crear objeto TimeSeries para interactuar con la API de Alpha Vantage\n",
    "        ts = TimeSeries(key=api_key, output_format='pandas')\n",
    "        \n",
    "        # Descargar datos intradía para el símbolo especificado\n",
    "        print(f\"Descargando datos de {symbol}...\")\n",
    "        data, meta_data = ts.get_intraday(symbol=symbol, \n",
    "                                         interval=interval, \n",
    "                                         outputsize=outputsize)\n",
    "        \n",
    "        # Generar un nombre de archivo basado en el símbolo, intervalo y timestamp actual\n",
    "        timestamp = datetime.now().strftime('%Y%m%d_%H%M')\n",
    "        filename = f\"{symbol}_{interval}_{timestamp}.csv\"\n",
    "        \n",
    "        # Guardar los datos descargados en un archivo CSV\n",
    "        data.to_csv(filename)\n",
    "        print(f\"Datos guardados en {filename}\")\n",
    "        \n",
    "        return data\n",
    "        \n",
    "    except Exception as e:\n",
    "        # Manejar el caso en que se alcanza el límite de frecuencia de llamadas a la API\n",
    "        if \"API call frequency\" in str(e):\n",
    "            print(\"Límite de API alcanzado. Esperando 60 segundos...\")\n",
    "            time.sleep(60)  # Esperar 60 segundos antes de reintentar\n",
    "            return download_stock_data(symbol, api_key, interval, outputsize)  # Reintentar la descarga\n",
    "        else:\n",
    "            # Imprimir cualquier otro error que ocurra\n",
    "            print(f\"Error: {str(e)}\")\n",
    "            return None\n",
    "\n",
    "# Configura tus parámetros aquí\n",
    "API_KEY = \"Tu_API_key\"  # Reemplaza con tu API key\n",
    "SYMBOL = \"NVDA\"         # Símbolo de la acción\n",
    "INTERVAL = \"60min\"      # Intervalo de tiempo\n",
    "OUTPUTSIZE = \"full\"     # Cantidad de datos\n",
    "\n",
    "# Ejecutar la descarga\n",
    "data = download_stock_data(SYMBOL, API_KEY, INTERVAL, OUTPUTSIZE)\n",
    "\n",
    "# Mostrar los primeros registros\n",
    "if data is not None:\n",
    "    print(\"\\nPrimeros registros de los datos:\")\n",
    "    display(data.head())"
   ]
  },
  {
   "cell_type": "code",
   "execution_count": null,
   "id": "043c0f97-17b4-45aa-ba92-f6fed0c5a9b5",
   "metadata": {},
   "outputs": [],
   "source": []
  }
 ],
 "metadata": {
  "kernelspec": {
   "display_name": "Python [conda env:base] *",
   "language": "python",
   "name": "conda-base-py"
  },
  "language_info": {
   "codemirror_mode": {
    "name": "ipython",
    "version": 3
   },
   "file_extension": ".py",
   "mimetype": "text/x-python",
   "name": "python",
   "nbconvert_exporter": "python",
   "pygments_lexer": "ipython3",
   "version": "3.12.7"
  }
 },
 "nbformat": 4,
 "nbformat_minor": 5
}
